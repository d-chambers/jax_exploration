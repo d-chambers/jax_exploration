{
 "cells": [
  {
   "cell_type": "markdown",
   "id": "4a8e700f-20a9-4a52-ad9f-72fd20265059",
   "metadata": {},
   "source": [
    "# Jax musings\n"
   ]
  },
  {
   "cell_type": "code",
   "execution_count": 1,
   "id": "b03b131e-b3d9-48bc-905e-2d50666dfe2c",
   "metadata": {},
   "outputs": [],
   "source": [
    "import jax\n",
    "import jax.numpy as jnp\n",
    "\n",
    "import numpy as np"
   ]
  },
  {
   "cell_type": "markdown",
   "id": "8b22ed74-a82f-40ee-8959-d24037d8ef2e",
   "metadata": {},
   "source": [
    "# Jax as a numpy replacement\n",
    "Is Jax faster than numpy? Can we just use jax now?"
   ]
  },
  {
   "cell_type": "markdown",
   "id": "4100683f-c401-4344-b40a-641508a4efd7",
   "metadata": {},
   "source": [
    "## Init random arrays\n",
    "Note that jax doesn't have stateful random number generation."
   ]
  },
  {
   "cell_type": "code",
   "execution_count": 47,
   "id": "ad907b01-d636-401b-9dee-c97636022af2",
   "metadata": {},
   "outputs": [],
   "source": [
    "def create_numpy_array(seed, shape, dtype):\n",
    "    \"\"\"Create numpy random array.\"\"\"\n",
    "    return np.random.RandomState(seed).rand(*shape).astype(dtype)\n",
    "\n",
    "def create_jax_array(seed, shape, dtype):\n",
    "    \"\"\"Create jax random array.\"\"\"\n",
    "    seed = jax.random.PRNGKey(42)\n",
    "    return jax.random.uniform(seed, shape).astype(dtype)"
   ]
  },
  {
   "cell_type": "code",
   "execution_count": 41,
   "id": "5373880d-6eda-4815-8f05-d253a9f90c9e",
   "metadata": {},
   "outputs": [],
   "source": [
    "jar = create_jax_array(42, (1_000, 1_000), jnp.float32)\n",
    "nar = create_numpy_array(42, (1_000, 1_000), np.float32)"
   ]
  },
  {
   "cell_type": "code",
   "execution_count": 54,
   "id": "02ffec03-3e79-4787-8f2d-74517f42a55d",
   "metadata": {},
   "outputs": [
    {
     "name": "stdout",
     "output_type": "stream",
     "text": [
      "136 µs ± 5.65 µs per loop (mean ± std. dev. of 7 runs, 10,000 loops each)\n"
     ]
    }
   ],
   "source": [
    "%timeit (jar + 1).block_until_ready()"
   ]
  },
  {
   "cell_type": "code",
   "execution_count": 55,
   "id": "1120dfd2-00dc-4077-9c1c-81b1fb44f436",
   "metadata": {},
   "outputs": [
    {
     "name": "stdout",
     "output_type": "stream",
     "text": [
      "275 µs ± 885 ns per loop (mean ± std. dev. of 7 runs, 1,000 loops each)\n"
     ]
    }
   ],
   "source": [
    "%timeit (nar + 1)"
   ]
  },
  {
   "cell_type": "markdown",
   "id": "a6c63ea2-d2ef-4a4d-a6c3-c0b57c75eb45",
   "metadata": {},
   "source": [
    "## Simple tests\n",
    "Run some very simple linear algebra tests"
   ]
  },
  {
   "cell_type": "code",
   "execution_count": null,
   "id": "b8ab3a26-dc95-404b-9dec-db1f5933fbec",
   "metadata": {},
   "outputs": [],
   "source": []
  },
  {
   "cell_type": "code",
   "execution_count": 60,
   "id": "d2499980-d5aa-49c8-9c0b-418d718fe829",
   "metadata": {},
   "outputs": [],
   "source": [
    "def timeit(func, ar, *args, **kwargs):\n",
    "    \"\"\"Generic timing function\"\"\"\n",
    "    if isinstance(ar, jnp.ndarray): \n",
    "        # jax cheats, need to block until ready because it is async.\n",
    "        out = %timeit -o func(ar, *args, **kwargs).block_until_ready()\n",
    "    else:\n",
    "        out = %timeit -o func(ar, *args, **kwargs)\n",
    "    \n",
    "    return out.best"
   ]
  },
  {
   "cell_type": "code",
   "execution_count": 61,
   "id": "12193bd5-bb21-4ef9-b7d5-4542f34e24c8",
   "metadata": {},
   "outputs": [],
   "source": [
    "def axpy_self(ar, scalar):\n",
    "    return ar * scalar + ar"
   ]
  },
  {
   "cell_type": "code",
   "execution_count": 62,
   "id": "28663b4c-f38e-45fc-aee2-6503ede854be",
   "metadata": {},
   "outputs": [
    {
     "name": "stdout",
     "output_type": "stream",
     "text": [
      "553 µs ± 4.04 µs per loop (mean ± std. dev. of 7 runs, 1,000 loops each)\n"
     ]
    },
    {
     "data": {
      "text/plain": [
       "0.0005484555149996594"
      ]
     },
     "execution_count": 62,
     "metadata": {},
     "output_type": "execute_result"
    }
   ],
   "source": [
    "timeit(axpy_self, nar, 1)"
   ]
  },
  {
   "cell_type": "code",
   "execution_count": 63,
   "id": "17ba86f2-915b-4725-a785-19abc764a14b",
   "metadata": {},
   "outputs": [
    {
     "name": "stdout",
     "output_type": "stream",
     "text": [
      "335 µs ± 25.1 µs per loop (mean ± std. dev. of 7 runs, 1,000 loops each)\n"
     ]
    },
    {
     "data": {
      "text/plain": [
       "0.0003004327329999796"
      ]
     },
     "execution_count": 63,
     "metadata": {},
     "output_type": "execute_result"
    }
   ],
   "source": [
    "timeit(axpy_self, jar, 1)"
   ]
  },
  {
   "cell_type": "code",
   "execution_count": 30,
   "id": "04d5d410-461b-4cba-9033-82790a3698d8",
   "metadata": {},
   "outputs": [
    {
     "name": "stdout",
     "output_type": "stream",
     "text": [
      "141 µs ± 5.15 µs per loop (mean ± std. dev. of 7 runs, 10,000 loops each)\n"
     ]
    }
   ],
   "source": [
    "%timeit jar + 1"
   ]
  },
  {
   "cell_type": "code",
   "execution_count": null,
   "id": "d805ec58-4838-4da9-9457-5393e033cab4",
   "metadata": {},
   "outputs": [],
   "source": []
  }
 ],
 "metadata": {
  "kernelspec": {
   "display_name": "Python 3 (ipykernel)",
   "language": "python",
   "name": "python3"
  },
  "language_info": {
   "codemirror_mode": {
    "name": "ipython",
    "version": 3
   },
   "file_extension": ".py",
   "mimetype": "text/x-python",
   "name": "python",
   "nbconvert_exporter": "python",
   "pygments_lexer": "ipython3",
   "version": "3.11.0"
  }
 },
 "nbformat": 4,
 "nbformat_minor": 5
}
